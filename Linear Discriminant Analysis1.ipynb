{
  "nbformat": 4,
  "nbformat_minor": 0,
  "metadata": {
    "colab": {
      "name": "LDA.ipynb",
      "provenance": [],
      "collapsed_sections": [],
      "authorship_tag": "ABX9TyPMXldQU2XmF6k6YhgZHbYX",
      "include_colab_link": true
    },
    "kernelspec": {
      "name": "python3",
      "display_name": "Python 3"
    }
  },
  "cells": [
    {
      "cell_type": "markdown",
      "metadata": {
        "id": "view-in-github",
        "colab_type": "text"
      },
      "source": [
        "<a href=\"https://colab.research.google.com/github/KodumuruRaja/Dimensionality-Reduction-Algorithms/blob/main/Linear%20Discriminant%20Analysis1.ipynb\" target=\"_parent\"><img src=\"https://colab.research.google.com/assets/colab-badge.svg\" alt=\"Open In Colab\"/></a>"
      ]
    },
    {
      "cell_type": "code",
      "metadata": {
        "id": "VQXkOuOw67cb"
      },
      "source": [
        "#import libraries\r\n",
        "import numpy as np\r\n",
        "import pandas as pd\r\n",
        "import seaborn as sns\r\n",
        "import matplotlib.pyplot as plt\r\n",
        "from sklearn.preprocessing import StandardScaler\r\n",
        "from sklearn.discriminant_analysis import LinearDiscriminantAnalysis as LDA\r\n",
        "import warnings\r\n",
        "warnings.filterwarnings('ignore')"
      ],
      "execution_count": null,
      "outputs": []
    },
    {
      "cell_type": "code",
      "metadata": {
        "id": "o_7X6-dd7Ika"
      },
      "source": [
        "url = \"https://archive.ics.uci.edu/ml/machine-learning-databases/iris/iris.data\"\r\n",
        "names = ['sepal-length', 'sepal-width', 'petal-length', 'petal-width', 'class']\r\n",
        "data = pd.read_csv(url, names=names)"
      ],
      "execution_count": null,
      "outputs": []
    },
    {
      "cell_type": "code",
      "metadata": {
        "colab": {
          "base_uri": "https://localhost:8080/",
          "height": 196
        },
        "id": "YfJmISCp7Haq",
        "outputId": "56116ab4-3b38-4b4c-96b2-03890796b349"
      },
      "source": [
        "X = data.drop(\"class\",axis=1)\r\n",
        "\r\n",
        "X.head()"
      ],
      "execution_count": null,
      "outputs": [
        {
          "output_type": "execute_result",
          "data": {
            "text/html": [
              "<div>\n",
              "<style scoped>\n",
              "    .dataframe tbody tr th:only-of-type {\n",
              "        vertical-align: middle;\n",
              "    }\n",
              "\n",
              "    .dataframe tbody tr th {\n",
              "        vertical-align: top;\n",
              "    }\n",
              "\n",
              "    .dataframe thead th {\n",
              "        text-align: right;\n",
              "    }\n",
              "</style>\n",
              "<table border=\"1\" class=\"dataframe\">\n",
              "  <thead>\n",
              "    <tr style=\"text-align: right;\">\n",
              "      <th></th>\n",
              "      <th>sepal-length</th>\n",
              "      <th>sepal-width</th>\n",
              "      <th>petal-length</th>\n",
              "      <th>petal-width</th>\n",
              "    </tr>\n",
              "  </thead>\n",
              "  <tbody>\n",
              "    <tr>\n",
              "      <th>0</th>\n",
              "      <td>5.1</td>\n",
              "      <td>3.5</td>\n",
              "      <td>1.4</td>\n",
              "      <td>0.2</td>\n",
              "    </tr>\n",
              "    <tr>\n",
              "      <th>1</th>\n",
              "      <td>4.9</td>\n",
              "      <td>3.0</td>\n",
              "      <td>1.4</td>\n",
              "      <td>0.2</td>\n",
              "    </tr>\n",
              "    <tr>\n",
              "      <th>2</th>\n",
              "      <td>4.7</td>\n",
              "      <td>3.2</td>\n",
              "      <td>1.3</td>\n",
              "      <td>0.2</td>\n",
              "    </tr>\n",
              "    <tr>\n",
              "      <th>3</th>\n",
              "      <td>4.6</td>\n",
              "      <td>3.1</td>\n",
              "      <td>1.5</td>\n",
              "      <td>0.2</td>\n",
              "    </tr>\n",
              "    <tr>\n",
              "      <th>4</th>\n",
              "      <td>5.0</td>\n",
              "      <td>3.6</td>\n",
              "      <td>1.4</td>\n",
              "      <td>0.2</td>\n",
              "    </tr>\n",
              "  </tbody>\n",
              "</table>\n",
              "</div>"
            ],
            "text/plain": [
              "   sepal-length  sepal-width  petal-length  petal-width\n",
              "0           5.1          3.5           1.4          0.2\n",
              "1           4.9          3.0           1.4          0.2\n",
              "2           4.7          3.2           1.3          0.2\n",
              "3           4.6          3.1           1.5          0.2\n",
              "4           5.0          3.6           1.4          0.2"
            ]
          },
          "metadata": {
            "tags": []
          },
          "execution_count": 3
        }
      ]
    },
    {
      "cell_type": "code",
      "metadata": {
        "id": "kcIhQrAs6-Bd"
      },
      "source": [
        "y = data[\"class\"]"
      ],
      "execution_count": null,
      "outputs": []
    },
    {
      "cell_type": "code",
      "metadata": {
        "colab": {
          "base_uri": "https://localhost:8080/"
        },
        "id": "3B6851P97XPP",
        "outputId": "5a030c7d-4dae-42ac-d1cd-a0afe378a7e5"
      },
      "source": [
        "# Standardizing the features\r\n",
        "X_trans = StandardScaler().fit_transform(X)\r\n",
        "print(X_trans)"
      ],
      "execution_count": null,
      "outputs": [
        {
          "output_type": "stream",
          "text": [
            "[[-9.00681170e-01  1.03205722e+00 -1.34127240e+00 -1.31297673e+00]\n",
            " [-1.14301691e+00 -1.24957601e-01 -1.34127240e+00 -1.31297673e+00]\n",
            " [-1.38535265e+00  3.37848329e-01 -1.39813811e+00 -1.31297673e+00]\n",
            " [-1.50652052e+00  1.06445364e-01 -1.28440670e+00 -1.31297673e+00]\n",
            " [-1.02184904e+00  1.26346019e+00 -1.34127240e+00 -1.31297673e+00]\n",
            " [-5.37177559e-01  1.95766909e+00 -1.17067529e+00 -1.05003079e+00]\n",
            " [-1.50652052e+00  8.00654259e-01 -1.34127240e+00 -1.18150376e+00]\n",
            " [-1.02184904e+00  8.00654259e-01 -1.28440670e+00 -1.31297673e+00]\n",
            " [-1.74885626e+00 -3.56360566e-01 -1.34127240e+00 -1.31297673e+00]\n",
            " [-1.14301691e+00  1.06445364e-01 -1.28440670e+00 -1.44444970e+00]\n",
            " [-5.37177559e-01  1.49486315e+00 -1.28440670e+00 -1.31297673e+00]\n",
            " [-1.26418478e+00  8.00654259e-01 -1.22754100e+00 -1.31297673e+00]\n",
            " [-1.26418478e+00 -1.24957601e-01 -1.34127240e+00 -1.44444970e+00]\n",
            " [-1.87002413e+00 -1.24957601e-01 -1.51186952e+00 -1.44444970e+00]\n",
            " [-5.25060772e-02  2.18907205e+00 -1.45500381e+00 -1.31297673e+00]\n",
            " [-1.73673948e-01  3.11468391e+00 -1.28440670e+00 -1.05003079e+00]\n",
            " [-5.37177559e-01  1.95766909e+00 -1.39813811e+00 -1.05003079e+00]\n",
            " [-9.00681170e-01  1.03205722e+00 -1.34127240e+00 -1.18150376e+00]\n",
            " [-1.73673948e-01  1.72626612e+00 -1.17067529e+00 -1.18150376e+00]\n",
            " [-9.00681170e-01  1.72626612e+00 -1.28440670e+00 -1.18150376e+00]\n",
            " [-5.37177559e-01  8.00654259e-01 -1.17067529e+00 -1.31297673e+00]\n",
            " [-9.00681170e-01  1.49486315e+00 -1.28440670e+00 -1.05003079e+00]\n",
            " [-1.50652052e+00  1.26346019e+00 -1.56873522e+00 -1.31297673e+00]\n",
            " [-9.00681170e-01  5.69251294e-01 -1.17067529e+00 -9.18557817e-01]\n",
            " [-1.26418478e+00  8.00654259e-01 -1.05694388e+00 -1.31297673e+00]\n",
            " [-1.02184904e+00 -1.24957601e-01 -1.22754100e+00 -1.31297673e+00]\n",
            " [-1.02184904e+00  8.00654259e-01 -1.22754100e+00 -1.05003079e+00]\n",
            " [-7.79513300e-01  1.03205722e+00 -1.28440670e+00 -1.31297673e+00]\n",
            " [-7.79513300e-01  8.00654259e-01 -1.34127240e+00 -1.31297673e+00]\n",
            " [-1.38535265e+00  3.37848329e-01 -1.22754100e+00 -1.31297673e+00]\n",
            " [-1.26418478e+00  1.06445364e-01 -1.22754100e+00 -1.31297673e+00]\n",
            " [-5.37177559e-01  8.00654259e-01 -1.28440670e+00 -1.05003079e+00]\n",
            " [-7.79513300e-01  2.42047502e+00 -1.28440670e+00 -1.44444970e+00]\n",
            " [-4.16009689e-01  2.65187798e+00 -1.34127240e+00 -1.31297673e+00]\n",
            " [-1.14301691e+00  1.06445364e-01 -1.28440670e+00 -1.44444970e+00]\n",
            " [-1.02184904e+00  3.37848329e-01 -1.45500381e+00 -1.31297673e+00]\n",
            " [-4.16009689e-01  1.03205722e+00 -1.39813811e+00 -1.31297673e+00]\n",
            " [-1.14301691e+00  1.06445364e-01 -1.28440670e+00 -1.44444970e+00]\n",
            " [-1.74885626e+00 -1.24957601e-01 -1.39813811e+00 -1.31297673e+00]\n",
            " [-9.00681170e-01  8.00654259e-01 -1.28440670e+00 -1.31297673e+00]\n",
            " [-1.02184904e+00  1.03205722e+00 -1.39813811e+00 -1.18150376e+00]\n",
            " [-1.62768839e+00 -1.74477836e+00 -1.39813811e+00 -1.18150376e+00]\n",
            " [-1.74885626e+00  3.37848329e-01 -1.39813811e+00 -1.31297673e+00]\n",
            " [-1.02184904e+00  1.03205722e+00 -1.22754100e+00 -7.87084847e-01]\n",
            " [-9.00681170e-01  1.72626612e+00 -1.05694388e+00 -1.05003079e+00]\n",
            " [-1.26418478e+00 -1.24957601e-01 -1.34127240e+00 -1.18150376e+00]\n",
            " [-9.00681170e-01  1.72626612e+00 -1.22754100e+00 -1.31297673e+00]\n",
            " [-1.50652052e+00  3.37848329e-01 -1.34127240e+00 -1.31297673e+00]\n",
            " [-6.58345429e-01  1.49486315e+00 -1.28440670e+00 -1.31297673e+00]\n",
            " [-1.02184904e+00  5.69251294e-01 -1.34127240e+00 -1.31297673e+00]\n",
            " [ 1.40150837e+00  3.37848329e-01  5.35295827e-01  2.64698913e-01]\n",
            " [ 6.74501145e-01  3.37848329e-01  4.21564419e-01  3.96171883e-01]\n",
            " [ 1.28034050e+00  1.06445364e-01  6.49027235e-01  3.96171883e-01]\n",
            " [-4.16009689e-01 -1.74477836e+00  1.37235899e-01  1.33225943e-01]\n",
            " [ 7.95669016e-01 -5.87763531e-01  4.78430123e-01  3.96171883e-01]\n",
            " [-1.73673948e-01 -5.87763531e-01  4.21564419e-01  1.33225943e-01]\n",
            " [ 5.53333275e-01  5.69251294e-01  5.35295827e-01  5.27644853e-01]\n",
            " [-1.14301691e+00 -1.51337539e+00 -2.60824029e-01 -2.61192967e-01]\n",
            " [ 9.16836886e-01 -3.56360566e-01  4.78430123e-01  1.33225943e-01]\n",
            " [-7.79513300e-01 -8.19166497e-01  8.03701950e-02  2.64698913e-01]\n",
            " [-1.02184904e+00 -2.43898725e+00 -1.47092621e-01 -2.61192967e-01]\n",
            " [ 6.86617933e-02 -1.24957601e-01  2.50967307e-01  3.96171883e-01]\n",
            " [ 1.89829664e-01 -1.97618132e+00  1.37235899e-01 -2.61192967e-01]\n",
            " [ 3.10997534e-01 -3.56360566e-01  5.35295827e-01  2.64698913e-01]\n",
            " [-2.94841818e-01 -3.56360566e-01 -9.02269170e-02  1.33225943e-01]\n",
            " [ 1.03800476e+00  1.06445364e-01  3.64698715e-01  2.64698913e-01]\n",
            " [-2.94841818e-01 -1.24957601e-01  4.21564419e-01  3.96171883e-01]\n",
            " [-5.25060772e-02 -8.19166497e-01  1.94101603e-01 -2.61192967e-01]\n",
            " [ 4.32165405e-01 -1.97618132e+00  4.21564419e-01  3.96171883e-01]\n",
            " [-2.94841818e-01 -1.28197243e+00  8.03701950e-02 -1.29719997e-01]\n",
            " [ 6.86617933e-02  3.37848329e-01  5.92161531e-01  7.90590793e-01]\n",
            " [ 3.10997534e-01 -5.87763531e-01  1.37235899e-01  1.33225943e-01]\n",
            " [ 5.53333275e-01 -1.28197243e+00  6.49027235e-01  3.96171883e-01]\n",
            " [ 3.10997534e-01 -5.87763531e-01  5.35295827e-01  1.75297293e-03]\n",
            " [ 6.74501145e-01 -3.56360566e-01  3.07833011e-01  1.33225943e-01]\n",
            " [ 9.16836886e-01 -1.24957601e-01  3.64698715e-01  2.64698913e-01]\n",
            " [ 1.15917263e+00 -5.87763531e-01  5.92161531e-01  2.64698913e-01]\n",
            " [ 1.03800476e+00 -1.24957601e-01  7.05892939e-01  6.59117823e-01]\n",
            " [ 1.89829664e-01 -3.56360566e-01  4.21564419e-01  3.96171883e-01]\n",
            " [-1.73673948e-01 -1.05056946e+00 -1.47092621e-01 -2.61192967e-01]\n",
            " [-4.16009689e-01 -1.51337539e+00  2.35044910e-02 -1.29719997e-01]\n",
            " [-4.16009689e-01 -1.51337539e+00 -3.33612130e-02 -2.61192967e-01]\n",
            " [-5.25060772e-02 -8.19166497e-01  8.03701950e-02  1.75297293e-03]\n",
            " [ 1.89829664e-01 -8.19166497e-01  7.62758643e-01  5.27644853e-01]\n",
            " [-5.37177559e-01 -1.24957601e-01  4.21564419e-01  3.96171883e-01]\n",
            " [ 1.89829664e-01  8.00654259e-01  4.21564419e-01  5.27644853e-01]\n",
            " [ 1.03800476e+00  1.06445364e-01  5.35295827e-01  3.96171883e-01]\n",
            " [ 5.53333275e-01 -1.74477836e+00  3.64698715e-01  1.33225943e-01]\n",
            " [-2.94841818e-01 -1.24957601e-01  1.94101603e-01  1.33225943e-01]\n",
            " [-4.16009689e-01 -1.28197243e+00  1.37235899e-01  1.33225943e-01]\n",
            " [-4.16009689e-01 -1.05056946e+00  3.64698715e-01  1.75297293e-03]\n",
            " [ 3.10997534e-01 -1.24957601e-01  4.78430123e-01  2.64698913e-01]\n",
            " [-5.25060772e-02 -1.05056946e+00  1.37235899e-01  1.75297293e-03]\n",
            " [-1.02184904e+00 -1.74477836e+00 -2.60824029e-01 -2.61192967e-01]\n",
            " [-2.94841818e-01 -8.19166497e-01  2.50967307e-01  1.33225943e-01]\n",
            " [-1.73673948e-01 -1.24957601e-01  2.50967307e-01  1.75297293e-03]\n",
            " [-1.73673948e-01 -3.56360566e-01  2.50967307e-01  1.33225943e-01]\n",
            " [ 4.32165405e-01 -3.56360566e-01  3.07833011e-01  1.33225943e-01]\n",
            " [-9.00681170e-01 -1.28197243e+00 -4.31421141e-01 -1.29719997e-01]\n",
            " [-1.73673948e-01 -5.87763531e-01  1.94101603e-01  1.33225943e-01]\n",
            " [ 5.53333275e-01  5.69251294e-01  1.27454998e+00  1.71090158e+00]\n",
            " [-5.25060772e-02 -8.19166497e-01  7.62758643e-01  9.22063763e-01]\n",
            " [ 1.52267624e+00 -1.24957601e-01  1.21768427e+00  1.18500970e+00]\n",
            " [ 5.53333275e-01 -3.56360566e-01  1.04708716e+00  7.90590793e-01]\n",
            " [ 7.95669016e-01 -1.24957601e-01  1.16081857e+00  1.31648267e+00]\n",
            " [ 2.12851559e+00 -1.24957601e-01  1.61574420e+00  1.18500970e+00]\n",
            " [-1.14301691e+00 -1.28197243e+00  4.21564419e-01  6.59117823e-01]\n",
            " [ 1.76501198e+00 -3.56360566e-01  1.44514709e+00  7.90590793e-01]\n",
            " [ 1.03800476e+00 -1.28197243e+00  1.16081857e+00  7.90590793e-01]\n",
            " [ 1.64384411e+00  1.26346019e+00  1.33141568e+00  1.71090158e+00]\n",
            " [ 7.95669016e-01  3.37848329e-01  7.62758643e-01  1.05353673e+00]\n",
            " [ 6.74501145e-01 -8.19166497e-01  8.76490051e-01  9.22063763e-01]\n",
            " [ 1.15917263e+00 -1.24957601e-01  9.90221459e-01  1.18500970e+00]\n",
            " [-1.73673948e-01 -1.28197243e+00  7.05892939e-01  1.05353673e+00]\n",
            " [-5.25060772e-02 -5.87763531e-01  7.62758643e-01  1.57942861e+00]\n",
            " [ 6.74501145e-01  3.37848329e-01  8.76490051e-01  1.44795564e+00]\n",
            " [ 7.95669016e-01 -1.24957601e-01  9.90221459e-01  7.90590793e-01]\n",
            " [ 2.24968346e+00  1.72626612e+00  1.67260991e+00  1.31648267e+00]\n",
            " [ 2.24968346e+00 -1.05056946e+00  1.78634131e+00  1.44795564e+00]\n",
            " [ 1.89829664e-01 -1.97618132e+00  7.05892939e-01  3.96171883e-01]\n",
            " [ 1.28034050e+00  3.37848329e-01  1.10395287e+00  1.44795564e+00]\n",
            " [-2.94841818e-01 -5.87763531e-01  6.49027235e-01  1.05353673e+00]\n",
            " [ 2.24968346e+00 -5.87763531e-01  1.67260991e+00  1.05353673e+00]\n",
            " [ 5.53333275e-01 -8.19166497e-01  6.49027235e-01  7.90590793e-01]\n",
            " [ 1.03800476e+00  5.69251294e-01  1.10395287e+00  1.18500970e+00]\n",
            " [ 1.64384411e+00  3.37848329e-01  1.27454998e+00  7.90590793e-01]\n",
            " [ 4.32165405e-01 -5.87763531e-01  5.92161531e-01  7.90590793e-01]\n",
            " [ 3.10997534e-01 -1.24957601e-01  6.49027235e-01  7.90590793e-01]\n",
            " [ 6.74501145e-01 -5.87763531e-01  1.04708716e+00  1.18500970e+00]\n",
            " [ 1.64384411e+00 -1.24957601e-01  1.16081857e+00  5.27644853e-01]\n",
            " [ 1.88617985e+00 -5.87763531e-01  1.33141568e+00  9.22063763e-01]\n",
            " [ 2.49201920e+00  1.72626612e+00  1.50201279e+00  1.05353673e+00]\n",
            " [ 6.74501145e-01 -5.87763531e-01  1.04708716e+00  1.31648267e+00]\n",
            " [ 5.53333275e-01 -5.87763531e-01  7.62758643e-01  3.96171883e-01]\n",
            " [ 3.10997534e-01 -1.05056946e+00  1.04708716e+00  2.64698913e-01]\n",
            " [ 2.24968346e+00 -1.24957601e-01  1.33141568e+00  1.44795564e+00]\n",
            " [ 5.53333275e-01  8.00654259e-01  1.04708716e+00  1.57942861e+00]\n",
            " [ 6.74501145e-01  1.06445364e-01  9.90221459e-01  7.90590793e-01]\n",
            " [ 1.89829664e-01 -1.24957601e-01  5.92161531e-01  7.90590793e-01]\n",
            " [ 1.28034050e+00  1.06445364e-01  9.33355755e-01  1.18500970e+00]\n",
            " [ 1.03800476e+00  1.06445364e-01  1.04708716e+00  1.57942861e+00]\n",
            " [ 1.28034050e+00  1.06445364e-01  7.62758643e-01  1.44795564e+00]\n",
            " [-5.25060772e-02 -8.19166497e-01  7.62758643e-01  9.22063763e-01]\n",
            " [ 1.15917263e+00  3.37848329e-01  1.21768427e+00  1.44795564e+00]\n",
            " [ 1.03800476e+00  5.69251294e-01  1.10395287e+00  1.71090158e+00]\n",
            " [ 1.03800476e+00 -1.24957601e-01  8.19624347e-01  1.44795564e+00]\n",
            " [ 5.53333275e-01 -1.28197243e+00  7.05892939e-01  9.22063763e-01]\n",
            " [ 7.95669016e-01 -1.24957601e-01  8.19624347e-01  1.05353673e+00]\n",
            " [ 4.32165405e-01  8.00654259e-01  9.33355755e-01  1.44795564e+00]\n",
            " [ 6.86617933e-02 -1.24957601e-01  7.62758643e-01  7.90590793e-01]]\n"
          ],
          "name": "stdout"
        }
      ]
    },
    {
      "cell_type": "code",
      "metadata": {
        "id": "arDDsLRD7YQc"
      },
      "source": [
        "#covariance matrix\r\n",
        "covar_matrix = LDA(n_components = 4)\r\n",
        "\r\n",
        "covar_matrix.fit(X_trans,y)\r\n",
        "\r\n",
        "variance = covar_matrix.explained_variance_ratio_"
      ],
      "execution_count": null,
      "outputs": []
    },
    {
      "cell_type": "code",
      "metadata": {
        "colab": {
          "base_uri": "https://localhost:8080/"
        },
        "id": "h9-ua6pW7Y2W",
        "outputId": "65fb3082-abb9-4097-d647-c50d69ea483c"
      },
      "source": [
        "#Cumulative sum of variance\r\n",
        "var=np.cumsum(np.round(variance, decimals=3)*100)\r\n",
        "print(var)"
      ],
      "execution_count": null,
      "outputs": [
        {
          "output_type": "stream",
          "text": [
            "[ 99.1 100. ]\n"
          ],
          "name": "stdout"
        }
      ]
    },
    {
      "cell_type": "code",
      "metadata": {
        "colab": {
          "base_uri": "https://localhost:8080/",
          "height": 295
        },
        "id": "CvrGEXg_7ZgG",
        "outputId": "f592ecd7-5b4e-4f5d-b2b3-6b9f2eac14f4"
      },
      "source": [
        "#plot for variance explained\r\n",
        "plt.ylabel(\"% Variance Explained\")\r\n",
        "plt.xlabel(\"# of Features\")\r\n",
        "plt.title(\"LDA Analysis\")\r\n",
        "plt.ylim(30,100.5)\r\n",
        "plt.style.context(\"seaborn-whitegrid\")\r\n",
        "plt.plot(var)\r\n",
        "plt.show()"
      ],
      "execution_count": null,
      "outputs": [
        {
          "output_type": "display_data",
          "data": {
            "image/png": "[encoded data removed]",
            "text/plain": [
              "<Figure size 432x288 with 1 Axes>"
            ]
          },
          "metadata": {
            "tags": [],
            "needs_background": "light"
          }
        }
      ]
    },
    {
      "cell_type": "code",
      "metadata": {
        "id": "tgcHIv377aGn"
      },
      "source": [
        "#Fit LDA for two components\r\n",
        "lda = LDA(n_components = 2)\r\n",
        "LinearComponents = lda.fit_transform(X_trans, y)"
      ],
      "execution_count": null,
      "outputs": []
    },
    {
      "cell_type": "code",
      "metadata": {
        "colab": {
          "base_uri": "https://localhost:8080/",
          "height": 196
        },
        "id": "Ua7ir7fI7rTS",
        "outputId": "c3b6bd36-070c-4a32-d2bd-a96783caa920"
      },
      "source": [
        "#make it as data frame\r\n",
        "finalDf = pd.DataFrame(data = LinearComponents, columns = [\"linear discriminant 1\", \"linear discriminant 2\"])\r\n",
        "finalDf.head()"
      ],
      "execution_count": null,
      "outputs": [
        {
          "output_type": "execute_result",
          "data": {
            "text/html": [
              "<div>\n",
              "<style scoped>\n",
              "    .dataframe tbody tr th:only-of-type {\n",
              "        vertical-align: middle;\n",
              "    }\n",
              "\n",
              "    .dataframe tbody tr th {\n",
              "        vertical-align: top;\n",
              "    }\n",
              "\n",
              "    .dataframe thead th {\n",
              "        text-align: right;\n",
              "    }\n",
              "</style>\n",
              "<table border=\"1\" class=\"dataframe\">\n",
              "  <thead>\n",
              "    <tr style=\"text-align: right;\">\n",
              "      <th></th>\n",
              "      <th>linear discriminant 1</th>\n",
              "      <th>linear discriminant 2</th>\n",
              "    </tr>\n",
              "  </thead>\n",
              "  <tbody>\n",
              "    <tr>\n",
              "      <th>0</th>\n",
              "      <td>8.084953</td>\n",
              "      <td>0.328454</td>\n",
              "    </tr>\n",
              "    <tr>\n",
              "      <th>1</th>\n",
              "      <td>7.147163</td>\n",
              "      <td>-0.755473</td>\n",
              "    </tr>\n",
              "    <tr>\n",
              "      <th>2</th>\n",
              "      <td>7.511378</td>\n",
              "      <td>-0.238078</td>\n",
              "    </tr>\n",
              "    <tr>\n",
              "      <th>3</th>\n",
              "      <td>6.837676</td>\n",
              "      <td>-0.642885</td>\n",
              "    </tr>\n",
              "    <tr>\n",
              "      <th>4</th>\n",
              "      <td>8.157814</td>\n",
              "      <td>0.540639</td>\n",
              "    </tr>\n",
              "  </tbody>\n",
              "</table>\n",
              "</div>"
            ],
            "text/plain": [
              "   linear discriminant 1  linear discriminant 2\n",
              "0               8.084953               0.328454\n",
              "1               7.147163              -0.755473\n",
              "2               7.511378              -0.238078\n",
              "3               6.837676              -0.642885\n",
              "4               8.157814               0.540639"
            ]
          },
          "metadata": {
            "tags": []
          },
          "execution_count": 10
        }
      ]
    },
    {
      "cell_type": "code",
      "metadata": {
        "id": "m_6s5RaV71MN"
      },
      "source": [
        "#data visualizations\r\n",
        "\r\n",
        "def visual(df):\r\n",
        "  np.random.seed(1)\r\n",
        "  sample_size = 5\r\n",
        "  df = finalDf.sample(sample_size)\r\n",
        "  plt.figure(figsize=(8,5))\r\n",
        "  sns.distplot(finalDf[\"linear discriminant 1\"], hist = True, kde = False,kde_kws = {\"linewidth\": 3})\r\n",
        "  plt.show()\r\n",
        "  visual(finalDf)"
      ],
      "execution_count": null,
      "outputs": []
    },
    {
      "cell_type": "code",
      "metadata": {
        "id": "NQmBX6lh7-NP"
      },
      "source": [
        "def visual1(df):\r\n",
        "  np.random.seed(1)\r\n",
        "  sample_size = 5\r\n",
        "  plt.figure(figsize=(8,5))\r\n",
        "  sns.distplot(finalDf[\"linear discriminant 2\"], hist = True, kde=False,\r\n",
        "  bins=int(180/5), color = \"blue\",\r\n",
        "  hist_kws={\"edgecolor\":'black'})\r\n",
        "  plt.show()"
      ],
      "execution_count": null,
      "outputs": []
    },
    {
      "cell_type": "code",
      "metadata": {
        "colab": {
          "base_uri": "https://localhost:8080/",
          "height": 334
        },
        "id": "HWSlLv_r70rU",
        "outputId": "494c13af-9061-4449-a169-4ed415c8e713"
      },
      "source": [
        "visual1(finalDf)"
      ],
      "execution_count": null,
      "outputs": [
        {
          "output_type": "display_data",
          "data": {
            "image/png": "[encoded data removed]",
            "text/plain": [
              "<Figure size 576x360 with 1 Axes>"
            ]
          },
          "metadata": {
            "tags": [],
            "needs_background": "light"
          }
        }
      ]
    },
    {
      "cell_type": "code",
      "metadata": {
        "colab": {
          "base_uri": "https://localhost:8080/",
          "height": 282
        },
        "id": "5GlwaSM88DXT",
        "outputId": "df0b54de-510d-4b80-adfb-926a709e2ff8"
      },
      "source": [
        "#scatter plot\r\n",
        "ax = sns.scatterplot(x=\"linear discriminant 1\", y=\"linear discriminant 2\", data=finalDf)\r\n",
        "plt.show()"
      ],
      "execution_count": null,
      "outputs": [
        {
          "output_type": "display_data",
          "data": {
            "image/png": "[encoded data removed]",
            "text/plain": [
              "<Figure size 432x288 with 1 Axes>"
            ]
          },
          "metadata": {
            "tags": [],
            "needs_background": "light"
          }
        }
      ]
    },
    {
      "cell_type": "code",
      "metadata": {
        "colab": {
          "base_uri": "https://localhost:8080/"
        },
        "id": "PznJEA7N7qKl",
        "outputId": "6562918d-08df-426f-9c65-672f17a09a38"
      },
      "source": [
        "print(\"The explained variance percentage is:\",lda.explained_variance_ratio_*100)"
      ],
      "execution_count": null,
      "outputs": [
        {
          "output_type": "stream",
          "text": [
            "The explained variance percentage is: [99.14724757  0.85275243]\n"
          ],
          "name": "stdout"
        }
      ]
    },
    {
      "cell_type": "code",
      "metadata": {
        "id": "WAxFFozfAv3m"
      },
      "source": [
        ""
      ],
      "execution_count": null,
      "outputs": []
    }
  ]
}