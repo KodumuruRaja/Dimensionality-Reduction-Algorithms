{
  "nbformat": 4,
  "nbformat_minor": 0,
  "metadata": {
    "colab": {
      "name": "Sammon Mapping.ipynb",
      "provenance": [],
      "collapsed_sections": [],
      "authorship_tag": "ABX9TyMfVSAPMqzBz9mE8lqUY8Px",
      "include_colab_link": true
    },
    "kernelspec": {
      "name": "python3",
      "display_name": "Python 3"
    }
  },
  "cells": [
    {
      "cell_type": "markdown",
      "metadata": {
        "id": "view-in-github",
        "colab_type": "text"
      },
      "source": [
        "<a href=\"https://colab.research.google.com/github/KodumuruRaja/Dimensionality-Reduction-Algorithms/blob/main/Sammon-Mapping1.ipynb\" target=\"_parent\"><img src=\"https://colab.research.google.com/assets/colab-badge.svg\" alt=\"Open In Colab\"/></a>"
      ]
    },
    {
      "cell_type": "code",
      "metadata": {
        "id": "gu-Bdwt7NoQ0"
      },
      "source": [
        "def sammon(x, n = 2, display = 2, inputdist = 'raw', maxhalves = 20, maxiter = 500, tolfun = 1e-9, init = 'pca'):\r\n",
        "\r\n",
        "    import numpy as np \r\n",
        "    from scipy.spatial.distance import cdist\r\n",
        "    X=x\r\n",
        "    # Create distance matrix unless given by parameters\r\n",
        "    if inputdist == 'distance':\r\n",
        "        xD = X\r\n",
        "    else:\r\n",
        "        xD = cdist(X, X)\r\n",
        "    # Remaining initialisation\r\n",
        "    N = X.shape[0] # hmmm, shape[1]?\r\n",
        "    scale = 0.5 / xD.sum()\r\n",
        "\r\n",
        "    if init == 'pca':\r\n",
        "        [UU,DD,_] = np.linalg.svd(X)\r\n",
        "        Y = UU[:,:n]*DD[:n] \r\n",
        "    else:\r\n",
        "        Y = np.random.normal(0.0,1.0,[N,n])\r\n",
        "    one = np.ones([N,n])\r\n",
        "\r\n",
        "    xD = xD + np.eye(N)        \r\n",
        "    xDinv = 1 / xD # Returns inf where D = 0.\r\n",
        "    xDinv[np.isinf(xDinv)] = 0 # Fix by replacing inf with 0 (default Matlab behaviour).    \r\n",
        "    yD = cdist(Y, Y) + np.eye(N)\r\n",
        "    yDinv = 1. / yD # Returns inf where d = 0. \r\n",
        "    \r\n",
        "    np.fill_diagonal(xD, 1)    \r\n",
        "    np.fill_diagonal(yD, 1)\r\n",
        "    np.fill_diagonal(xDinv, 0)\r\n",
        "    np.fill_diagonal(yDinv, 0)\r\n",
        "    \r\n",
        "    xDinv[np.isnan(xDinv)] = 0\r\n",
        "    yDinv[np.isnan(xDinv)] = 0\r\n",
        "    xDinv[np.isinf(xDinv)] = 0    \r\n",
        "    yDinv[np.isinf(yDinv)] = 0 # Fix by replacing inf with 0 (default Matlab behaviour).\r\n",
        "    \r\n",
        "    delta = xD - yD \r\n",
        "    E = ((delta**2)*xDinv).sum() \r\n",
        "\r\n",
        "    # Get on with it\r\n",
        "    for i in range(maxiter):\r\n",
        "\r\n",
        "        # Compute gradient, Hessian and search direction (note it is actually\r\n",
        "        # 1/4 of the gradient and Hessian, but the step size is just the ratio\r\n",
        "        # of the gradient and the diagonal of the Hessian so it doesn't\r\n",
        "        # matter).\r\n",
        "        delta = yDinv - xDinv\r\n",
        "        deltaone = np.dot(delta,one)\r\n",
        "        g = np.dot(delta, Y) - (Y * deltaone)\r\n",
        "        dinv3 = yDinv ** 3\r\n",
        "        y2 = Y ** 2\r\n",
        "        H = np.dot(dinv3,y2) - deltaone - np.dot(2, Y) * np.dot(dinv3, Y) + y2 * np.dot(dinv3,one)\r\n",
        "        s = -g.flatten(order='F') / np.abs(H.flatten(order='F'))\r\n",
        "        y_old = Y\r\n",
        "\r\n",
        "        # Use step-halving procedure to ensure progress is made\r\n",
        "        for j in range(maxhalves):\r\n",
        "            s_reshape = s.reshape(2,len(s)/2).T\r\n",
        "            y = y_old + s_reshape\r\n",
        "            d = cdist(y, y) + np.eye(N)\r\n",
        "            dinv = 1 / d # Returns inf where D = 0. \r\n",
        "            dinv[np.isinf(dinv)] = 0 # Fix by replacing inf with 0 (default Matlab behaviour).\r\n",
        "            delta = xD - d\r\n",
        "            E_new = ((delta**2)*xDinv).sum()\r\n",
        "            if E_new < E:\r\n",
        "                break\r\n",
        "            else:\r\n",
        "                s = np.dot(0.5,s)\r\n",
        "\r\n",
        "        # Bomb out if too many halving steps are required\r\n",
        "        if j == maxhalves:\r\n",
        "            print('Warning: maxhalves exceeded. Sammon mapping may not converge...')\r\n",
        "\r\n",
        "        # Evaluate termination criterion\r\n",
        "        if np.abs((E - E_new) / E) < tolfun:\r\n",
        "            if display:\r\n",
        "                print('TolFun exceeded: Optimisation terminated')\r\n",
        "            break\r\n",
        "\r\n",
        "        # Report progress\r\n",
        "        E = E_new\r\n",
        "        if display > 1:\r\n",
        "            print('epoch = ' + str(i) + ': E = ' + str(E * scale))\r\n",
        "\r\n",
        "    # Fiddle stress to match the original Sammon paper\r\n",
        "    E = E * scale\r\n",
        "    \r\n",
        "    return [y,E]"
      ],
      "execution_count": null,
      "outputs": []
    },
    {
      "cell_type": "code",
      "metadata": {
        "colab": {
          "base_uri": "https://localhost:8080/",
          "height": 369
        },
        "id": "fl9cLQWde9mf",
        "outputId": "c98f2460-4094-42b5-f3e0-50274a733c23"
      },
      "source": [
        "def main():\r\n",
        "\r\n",
        "   import numpy as np \r\n",
        "   from sklearn import datasets\r\n",
        "   import matplotlib.pyplot as plt\r\n",
        "   iris = datasets.load_iris()\r\n",
        "   X = iris.data\r\n",
        "   target = iris.target\r\n",
        "   names = iris.target_names\r\n",
        "\r\n",
        "   # Run the Sammon projection\r\n",
        "   [y,E] = sammon(X)\r\n",
        "\r\n",
        "   # Plot\r\n",
        "   plt.scatter(y[target ==0, 0], y[target ==0, 1], s=20, c='r', marker='o',label=names[0])\r\n",
        "   plt.scatter(y[target ==1, 0], y[target ==1, 1], s=20, c='b', marker='D',label=names[1])\r\n",
        "   plt.scatter(y[target ==2, 0], y[target ==2, 1], s=20, c='y', marker='v',label=names[2])\r\n",
        "   plt.title('Sammon projection of iris flower data')\r\n",
        "   plt.legend(loc=2)\r\n",
        "   plt.show()\r\n",
        "\r\n",
        "if __name__ == \"__main__\":\r\n",
        "    main()"
      ],
      "execution_count": null,
      "outputs": [
        {
          "output_type": "stream",
          "text": [
            "/usr/local/lib/python3.7/dist-packages/ipykernel_launcher.py:23: RuntimeWarning: divide by zero encountered in true_divide\n",
            "/usr/local/lib/python3.7/dist-packages/ipykernel_launcher.py:26: RuntimeWarning: divide by zero encountered in true_divide\n"
          ],
          "name": "stderr"
        },
        {
          "output_type": "error",
          "ename": "TypeError",
          "evalue": "ignored",
          "traceback": [
            "\u001b[0;31m---------------------------------------------------------------------------\u001b[0m",
            "\u001b[0;31mTypeError\u001b[0m                                 Traceback (most recent call last)",
            "\u001b[0;32m<ipython-input-16-b4356bcb15ff>\u001b[0m in \u001b[0;36m<module>\u001b[0;34m()\u001b[0m\n\u001b[1;32m     21\u001b[0m \u001b[0;34m\u001b[0m\u001b[0m\n\u001b[1;32m     22\u001b[0m \u001b[0;32mif\u001b[0m \u001b[0m__name__\u001b[0m \u001b[0;34m==\u001b[0m \u001b[0;34m\"__main__\"\u001b[0m\u001b[0;34m:\u001b[0m\u001b[0;34m\u001b[0m\u001b[0;34m\u001b[0m\u001b[0m\n\u001b[0;32m---> 23\u001b[0;31m     \u001b[0mmain\u001b[0m\u001b[0;34m(\u001b[0m\u001b[0;34m)\u001b[0m\u001b[0;34m\u001b[0m\u001b[0;34m\u001b[0m\u001b[0m\n\u001b[0m",
            "\u001b[0;32m<ipython-input-16-b4356bcb15ff>\u001b[0m in \u001b[0;36mmain\u001b[0;34m()\u001b[0m\n\u001b[1;32m     10\u001b[0m \u001b[0;34m\u001b[0m\u001b[0m\n\u001b[1;32m     11\u001b[0m    \u001b[0;31m# Run the Sammon projection\u001b[0m\u001b[0;34m\u001b[0m\u001b[0;34m\u001b[0m\u001b[0;34m\u001b[0m\u001b[0m\n\u001b[0;32m---> 12\u001b[0;31m    \u001b[0;34m[\u001b[0m\u001b[0my\u001b[0m\u001b[0;34m,\u001b[0m\u001b[0mE\u001b[0m\u001b[0;34m]\u001b[0m \u001b[0;34m=\u001b[0m \u001b[0msammon\u001b[0m\u001b[0;34m(\u001b[0m\u001b[0mX\u001b[0m\u001b[0;34m)\u001b[0m\u001b[0;34m\u001b[0m\u001b[0;34m\u001b[0m\u001b[0m\n\u001b[0m\u001b[1;32m     13\u001b[0m \u001b[0;34m\u001b[0m\u001b[0m\n\u001b[1;32m     14\u001b[0m    \u001b[0;31m# Plot\u001b[0m\u001b[0;34m\u001b[0m\u001b[0;34m\u001b[0m\u001b[0;34m\u001b[0m\u001b[0m\n",
            "\u001b[0;32m<ipython-input-15-13fe1cdcc9e6>\u001b[0m in \u001b[0;36msammon\u001b[0;34m(x, n, display, inputdist, maxhalves, maxiter, tolfun, init)\u001b[0m\n\u001b[1;32m     57\u001b[0m         \u001b[0;31m# Use step-halving procedure to ensure progress is made\u001b[0m\u001b[0;34m\u001b[0m\u001b[0;34m\u001b[0m\u001b[0;34m\u001b[0m\u001b[0m\n\u001b[1;32m     58\u001b[0m         \u001b[0;32mfor\u001b[0m \u001b[0mj\u001b[0m \u001b[0;32min\u001b[0m \u001b[0mrange\u001b[0m\u001b[0;34m(\u001b[0m\u001b[0mmaxhalves\u001b[0m\u001b[0;34m)\u001b[0m\u001b[0;34m:\u001b[0m\u001b[0;34m\u001b[0m\u001b[0;34m\u001b[0m\u001b[0m\n\u001b[0;32m---> 59\u001b[0;31m             \u001b[0ms_reshape\u001b[0m \u001b[0;34m=\u001b[0m \u001b[0ms\u001b[0m\u001b[0;34m.\u001b[0m\u001b[0mreshape\u001b[0m\u001b[0;34m(\u001b[0m\u001b[0;36m2\u001b[0m\u001b[0;34m,\u001b[0m\u001b[0mlen\u001b[0m\u001b[0;34m(\u001b[0m\u001b[0ms\u001b[0m\u001b[0;34m)\u001b[0m\u001b[0;34m/\u001b[0m\u001b[0;36m2\u001b[0m\u001b[0;34m)\u001b[0m\u001b[0;34m.\u001b[0m\u001b[0mT\u001b[0m\u001b[0;34m\u001b[0m\u001b[0;34m\u001b[0m\u001b[0m\n\u001b[0m\u001b[1;32m     60\u001b[0m             \u001b[0my\u001b[0m \u001b[0;34m=\u001b[0m \u001b[0my_old\u001b[0m \u001b[0;34m+\u001b[0m \u001b[0ms_reshape\u001b[0m\u001b[0;34m\u001b[0m\u001b[0;34m\u001b[0m\u001b[0m\n\u001b[1;32m     61\u001b[0m             \u001b[0md\u001b[0m \u001b[0;34m=\u001b[0m \u001b[0mcdist\u001b[0m\u001b[0;34m(\u001b[0m\u001b[0my\u001b[0m\u001b[0;34m,\u001b[0m \u001b[0my\u001b[0m\u001b[0;34m)\u001b[0m \u001b[0;34m+\u001b[0m \u001b[0mnp\u001b[0m\u001b[0;34m.\u001b[0m\u001b[0meye\u001b[0m\u001b[0;34m(\u001b[0m\u001b[0mN\u001b[0m\u001b[0;34m)\u001b[0m\u001b[0;34m\u001b[0m\u001b[0;34m\u001b[0m\u001b[0m\n",
            "\u001b[0;31mTypeError\u001b[0m: 'float' object cannot be interpreted as an integer"
          ]
        }
      ]
    },
    {
      "cell_type": "code",
      "metadata": {
        "id": "yhFQLtZPfYJa"
      },
      "source": [
        ""
      ],
      "execution_count": null,
      "outputs": []
    }
  ]
}