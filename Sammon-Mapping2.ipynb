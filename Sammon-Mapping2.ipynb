{
  "nbformat": 4,
  "nbformat_minor": 0,
  "metadata": {
    "colab": {
      "name": "Sammon Mapping1.ipynb",
      "provenance": [],
      "collapsed_sections": [],
      "authorship_tag": "ABX9TyMqnFfFtqEr3fg/GWj6fqkZ",
      "include_colab_link": true
    },
    "kernelspec": {
      "name": "python3",
      "display_name": "Python 3"
    }
  },
  "cells": [
    {
      "cell_type": "markdown",
      "metadata": {
        "id": "view-in-github",
        "colab_type": "text"
      },
      "source": [
        "<a href=\"https://colab.research.google.com/github/KodumuruRaja/Dimensionality-Reduction-Algorithms/blob/main/Sammon-Mapping2.ipynb\" target=\"_parent\"><img src=\"https://colab.research.google.com/assets/colab-badge.svg\" alt=\"Open In Colab\"/></a>"
      ]
    },
    {
      "cell_type": "code",
      "metadata": {
        "colab": {
          "base_uri": "https://localhost:8080/"
        },
        "id": "ZKYpwGQ4oGNK",
        "outputId": "adc3784d-f0fa-45ec-cea8-8b8481cc983f"
      },
      "source": [
        "import nltk\r\n",
        "nltk.download('stopwords')"
      ],
      "execution_count": null,
      "outputs": [
        {
          "output_type": "stream",
          "text": [
            "[nltk_data] Downloading package stopwords to /root/nltk_data...\n",
            "[nltk_data]   Package stopwords is already up-to-date!\n"
          ],
          "name": "stdout"
        },
        {
          "output_type": "execute_result",
          "data": {
            "text/plain": [
              "True"
            ]
          },
          "metadata": {
            "tags": []
          },
          "execution_count": 1
        }
      ]
    },
    {
      "cell_type": "code",
      "metadata": {
        "id": "Rp38jGmhl2lY"
      },
      "source": [
        "import numpy as np\r\n",
        "from nltk.corpus import stopwords\r\n",
        "from sklearn.decomposition import PCA\r\n",
        "stoplist = set(stopwords.words('english'))\r\n",
        "\r\n",
        "\r\n",
        "class SammonMapping():\r\n",
        "    def __init__(self, vectors):\r\n",
        "        \"\"\"\r\n",
        "        :param vectors: input vectors as numpy darray which is to be reduced to desired dimension.\r\n",
        "        \"\"\"\r\n",
        "        self.vectors = vectors\r\n",
        "        self.magic_factor = 0.4\r\n",
        "\r\n",
        "        self.threshold = 1e-5\r\n",
        "        self.new_vector = PCA(n_components=2).fit_transform(self.vectors)\r\n",
        "        self.error = 1.0\r\n",
        "        self.error_old = 2.0\r\n",
        "        self.distance_old_vector = self.distance_vector(self.vectors)\r\n",
        "        self.distance_new_vector = self.distance_vector(self.new_vector)\r\n",
        "        self.difference_new_vector = self.subtract_vector()\r\n",
        "        self.c = self.calculate_c()\r\n",
        "\r\n",
        "    def error_calculate(self):\r\n",
        "        \"\"\"\r\n",
        "        :return: error value of distance between all old vectors and distance between all new vectors\r\n",
        "        \"\"\"\r\n",
        "        result = np.triu(\r\n",
        "            np.nan_to_num((((self.distance_old_vector - self.distance_new_vector) ** 2) / self.distance_old_vector)),\r\n",
        "            k=1)\r\n",
        "        sum = result.sum()\r\n",
        "\r\n",
        "        return sum * (1 / self.c)\r\n",
        "\r\n",
        "    def calculate_c(self):\r\n",
        "        \"\"\"\r\n",
        "        :return: calculated value of c\r\n",
        "        \"\"\"\r\n",
        "\r\n",
        "        c = np.triu(self.distance_old_vector, k=1)\r\n",
        "        sum = 0\r\n",
        "        for i in range(self.distance_old_vector.shape[0]):\r\n",
        "            another_sum = 0\r\n",
        "            for x in c[i]:\r\n",
        "                another_sum = another_sum + x\r\n",
        "            sum += another_sum\r\n",
        "        return sum\r\n",
        "\r\n",
        "    def first_differentiate(self, index):\r\n",
        "        \"\"\"\r\n",
        "         :param index: index of vector with respect to which first differentiation is to be done\r\n",
        "        :return: a vector with desired value of first differentiation with respect to input vector.\r\n",
        "        \"\"\"\r\n",
        "\r\n",
        "        first_term = np.nan_to_num(np.divide((self.distance_old_vector[index] - self.distance_new_vector[index]), (\r\n",
        "            np.multiply(self.distance_old_vector[index], self.distance_new_vector[index]))))\r\n",
        "        first_term_populated = np.array([first_term.T] * 2).T\r\n",
        "        final_value = np.multiply(first_term_populated, self.difference_new_vector[index])\r\n",
        "        summed = final_value.sum(axis=0)\r\n",
        "\r\n",
        "        return (-2 * summed) / self.c\r\n",
        "\r\n",
        "    def second_differentiate(self, index):\r\n",
        "        \"\"\"\r\n",
        "        :param index: index of vector with respect to which second differentiation is to be done\r\n",
        "        :return: a vector with desired value of second differentiation with respect to input vector.\r\n",
        "        \"\"\"\r\n",
        "\r\n",
        "        first = self.distance_old_vector[index] - self.distance_new_vector[index]\r\n",
        "        first_populated = np.array([(self.distance_old_vector[index] - self.distance_new_vector[index]).T] * 2).T\r\n",
        "        second = np.array([np.multiply(self.distance_old_vector[index], self.distance_new_vector[index]).T] * 2).T\r\n",
        "        third = np.nan_to_num(np.divide(np.square(self.difference_new_vector[index]),\r\n",
        "                                        np.array([self.distance_new_vector[index].T] * 2).T))\r\n",
        "        e = np.array([(1 + np.nan_to_num(np.divide(first, self.distance_new_vector[index]))).T] * 2).T\r\n",
        "        ans = np.nan_to_num(np.divide((first_populated - np.multiply(third, e)), second))\r\n",
        "        arg1 = ans.sum(axis=0)\r\n",
        "\r\n",
        "        answer = (-2 * arg1) / self.c\r\n",
        "        return answer\r\n",
        "\r\n",
        "    def distance_vector(self, vector):\r\n",
        "        \"\"\"\r\n",
        "        :param vector: ndarray which contains numbers of vectors and whose distance with each other is to be calculated.\r\n",
        "        :return: a ndarray containing distance between every vectors with each other\r\n",
        "        \"\"\"\r\n",
        "\r\n",
        "        d = (vector ** 2).sum(axis=-1)[:, np.newaxis] + (vector ** 2).sum(axis=-1)\r\n",
        "        d -= 2 * np.squeeze(vector.dot(vector[..., np.newaxis]), axis=-1)\r\n",
        "        d **= 0.5\r\n",
        "        return d\r\n",
        "\r\n",
        "    def subtract_vector(self):\r\n",
        "\r\n",
        "        \"\"\"\r\n",
        "        :return: a n * n dimensional darray of numpy each containing difference between vectors of m dimension, \\\r\n",
        "        where m is desired dimension in our case\r\n",
        "        \"\"\"\r\n",
        "        J, P = self.new_vector.shape\r\n",
        "        empty_vector = np.zeros(shape=[J, J, P])\r\n",
        "\r\n",
        "        for i, x in enumerate(self.new_vector):\r\n",
        "            next_vector = np.array([x] * J)\r\n",
        "            intermediate_vector = next_vector - self.new_vector\r\n",
        "            empty_vector[i] = intermediate_vector\r\n",
        "\r\n",
        "        return empty_vector\r\n",
        "\r\n",
        "    def get_sammon_mapped_coordinate(self):\r\n",
        "        \"\"\"\r\n",
        "        :return: desired vector with error minimized\r\n",
        "        \"\"\"\r\n",
        "        while abs(self.error_old - self.error) > self.threshold:\r\n",
        "            for index, new in enumerate(self.new_vector):\r\n",
        "                first = self.first_differentiate(index)\r\n",
        "                second = self.second_differentiate(index)\r\n",
        "                delta = self.magic_factor * first / second\r\n",
        "\r\n",
        "                self.new_vector[index] -= delta\r\n",
        "                self.distance_new_vector = self.distance_vector(self.new_vector)\r\n",
        "                self.difference_new_vector = self.subtract_vector()\r\n",
        "            self.error_old = self.error\r\n",
        "            self.error = self.error_calculate()\r\n",
        "            print(self.error)\r\n",
        "        return self.new_vector"
      ],
      "execution_count": null,
      "outputs": []
    },
    {
      "cell_type": "code",
      "metadata": {
        "colab": {
          "base_uri": "https://localhost:8080/",
          "height": 1000
        },
        "id": "7MClmnj4nu4b",
        "outputId": "a2e6337d-c35f-4a33-9b67-e028c96521f8"
      },
      "source": [
        "import matplotlib.pyplot as plt\r\n",
        "import numpy as np\r\n",
        "h = np.loadtxt('/content/bouquet_of_circles.txt', dtype= 'f')\r\n",
        "\r\n",
        "import datetime\r\n",
        "a = datetime.datetime.now()\r\n",
        "sm = SammonMapping(h)\r\n",
        "X = sm.get_sammon_mapped_coordinate()\r\n",
        "b = datetime.datetime.now()\r\n",
        "print(b-a)\r\n",
        "\r\n",
        "x_index = 0\r\n",
        "y_index = 1\r\n",
        "plt.figure(figsize=(10, 10))\r\n",
        "plt.scatter(X[:, x_index], X[:, y_index])\r\n",
        "\r\n",
        "plt.tight_layout()\r\n",
        "plt.show()"
      ],
      "execution_count": null,
      "outputs": [
        {
          "output_type": "stream",
          "text": [
            "/usr/local/lib/python3.7/dist-packages/ipykernel_launcher.py:89: RuntimeWarning: invalid value encountered in sqrt\n",
            "/usr/local/lib/python3.7/dist-packages/ipykernel_launcher.py:56: RuntimeWarning: invalid value encountered in true_divide\n",
            "/usr/local/lib/python3.7/dist-packages/ipykernel_launcher.py:73: RuntimeWarning: invalid value encountered in true_divide\n",
            "/usr/local/lib/python3.7/dist-packages/ipykernel_launcher.py:74: RuntimeWarning: invalid value encountered in true_divide\n",
            "/usr/local/lib/python3.7/dist-packages/ipykernel_launcher.py:75: RuntimeWarning: invalid value encountered in true_divide\n",
            "/usr/local/lib/python3.7/dist-packages/ipykernel_launcher.py:56: RuntimeWarning: divide by zero encountered in true_divide\n",
            "/usr/local/lib/python3.7/dist-packages/ipykernel_launcher.py:75: RuntimeWarning: divide by zero encountered in true_divide\n",
            "/usr/local/lib/python3.7/dist-packages/ipykernel_launcher.py:78: RuntimeWarning: overflow encountered in multiply\n",
            "/usr/local/lib/python3.7/dist-packages/ipykernel_launcher.py:29: RuntimeWarning: divide by zero encountered in true_divide\n",
            "/usr/local/lib/python3.7/dist-packages/ipykernel_launcher.py:29: RuntimeWarning: invalid value encountered in true_divide\n"
          ],
          "name": "stderr"
        },
        {
          "output_type": "stream",
          "text": [
            "184.35529194569284\n"
          ],
          "name": "stdout"
        },
        {
          "output_type": "stream",
          "text": [
            "/usr/local/lib/python3.7/dist-packages/ipykernel_launcher.py:73: RuntimeWarning: divide by zero encountered in true_divide\n",
            "/usr/local/lib/python3.7/dist-packages/ipykernel_launcher.py:74: RuntimeWarning: divide by zero encountered in true_divide\n",
            "/usr/local/lib/python3.7/dist-packages/ipykernel_launcher.py:75: RuntimeWarning: overflow encountered in multiply\n"
          ],
          "name": "stderr"
        },
        {
          "output_type": "stream",
          "text": [
            "66.1929613328184\n",
            "45.088703921374496\n",
            "16.400279831190122\n",
            "7.786928979512528\n",
            "4.249691381807668\n",
            "17.881740088468806\n",
            "7.520828159955721\n",
            "3.765069427010957\n",
            "2.4054821455116926\n",
            "1.9041069803652484\n",
            "1.7225901437204427\n",
            "1.665441363176757\n",
            "1.6528870852330664\n",
            "1.6496460689446042\n",
            "1.6479666603078853\n",
            "1.6467417149305525\n",
            "1.6461618506226445\n",
            "1.6459296378702215\n",
            "1.645818307209617\n",
            "1.6457755825280567\n",
            "1.6457521661160477\n",
            "1.6457389173566215\n",
            "1.6457305983681445\n",
            "0:01:20.771696\n"
          ],
          "name": "stdout"
        },
        {
          "output_type": "display_data",
          "data": {
            "image/png": "[encoded data removed]",
            "text/plain": [
              "<Figure size 720x720 with 1 Axes>"
            ]
          },
          "metadata": {
            "tags": [],
            "needs_background": "light"
          }
        }
      ]
    },
    {
      "cell_type": "code",
      "metadata": {
        "id": "UYG_3uX-oRWs"
      },
      "source": [
        ""
      ],
      "execution_count": null,
      "outputs": []
    }
  ]
}